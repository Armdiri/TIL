{
 "cells": [
  {
   "cell_type": "markdown",
   "metadata": {},
   "source": [
    "## Github Cli Console \n",
    "- 깃헙의 접속 및 생성 CLI 를 한곳에 모아둠, 실행을 단순하게 할수 있음 \n",
    "- MCP 를 이용하면 편리하지만 가볍게 처리하기 위해 MCP 이용하지 않고 노트북으로 생성 \n",
    "- mcp-url : https://smithery.ai/server/@smithery-ai/github \n",
    "\n",
    "### 필수 설치 \n",
    "- brew install gh"
   ]
  },
  {
   "cell_type": "markdown",
   "metadata": {},
   "source": [
    "### 로그인, 상태, 로그아웃"
   ]
  },
  {
   "cell_type": "code",
   "execution_count": null,
   "metadata": {},
   "outputs": [],
   "source": [
    "# GitHub CLI Login\n",
    "gh auth login --hostname github.com --git-protocol https --with-token\n",
    "\n",
    "# GitHub Status Check \n",
    "gh auth status \n",
    "\n",
    "# GitHub Logout \n",
    "gh auth logout "
   ]
  },
  {
   "cell_type": "markdown",
   "metadata": {},
   "source": [
    "### 레파지토리 접근,생성,삭제"
   ]
  },
  {
   "cell_type": "code",
   "execution_count": null,
   "metadata": {},
   "outputs": [],
   "source": [
    "gh repo create <repo-name> --public\n",
    "gh repo delete <repo-name> --confirm"
   ]
  },
  {
   "cell_type": "markdown",
   "metadata": {},
   "source": [
    "### 브랜치 생성,삭제,변경"
   ]
  },
  {
   "cell_type": "code",
   "execution_count": null,
   "metadata": {},
   "outputs": [],
   "source": [
    "gh branch create <repo-name> --base main --head my-feature-branch\n",
    "gh branch rename <repo-name> --new-name my-new-branch\n",
    "gh branch delete <repo-name> --force"
   ]
  },
  {
   "cell_type": "markdown",
   "metadata": {},
   "source": [
    "### 초기\n",
    "- create a new repository on the command line\n",
    "- push an existing repository from the command line"
   ]
  },
  {
   "cell_type": "code",
   "execution_count": null,
   "metadata": {},
   "outputs": [],
   "source": [
    "# create a new repository on the command line\n",
    "echo \"# ai-proj-set\" >> README.md\n",
    "git init -b main\n",
    "git add README.md\n",
    "git commit -m \"first commit\"\n",
    "git branch -M main\n",
    "git remote add origin https://github.com/Armdiri/ai-proj-set.git\n",
    "git push -u origin main"
   ]
  },
  {
   "cell_type": "code",
   "execution_count": null,
   "metadata": {},
   "outputs": [],
   "source": [
    "# push an existing repository from the command line\n",
    "git remote add origin https://github.com/Armdiri/ai-proj-set.git\n",
    "git branch -M main\n",
    "git push -u origin main"
   ]
  },
  {
   "cell_type": "code",
   "execution_count": null,
   "metadata": {},
   "outputs": [],
   "source": [
    "### ERROR \n",
    "\n",
    "error: src refspec master does not match any\n",
    "- git show-ref\n",
    "- git config --global init.defaultBranch main\n",
    "- git commit -m \"first commit\"\n",
    "- git branch main\n",
    "- git switch main \n",
    "- git push -u origin main\n",
    "\n",
    "fatal: Not a valid object name: 'master'.\n",
    "- 커밋을 한적이 없기 때문에 한번 커밋을 해야 함 "
   ]
  },
  {
   "cell_type": "markdown",
   "metadata": {},
   "source": [
    "### 작업중"
   ]
  },
  {
   "cell_type": "code",
   "execution_count": null,
   "metadata": {},
   "outputs": [],
   "source": [
    "## 브랜치 생성하고 커밋하고 푸시까지 \n",
    "- git branch <branch-name>\n",
    "- git commit -m \"commit message\"\n",
    "- git push origin <branch-name>\n",
    "\n",
    "## 브랜치 병합 \n",
    "- git merge <branch-name>\n",
    "- git push origin <branch-name>\n",
    "\n",
    "## 브랜치 삭제 \n",
    "- git branch -d <branch-name>\n",
    "- git push origin --delete <branch-name>"
   ]
  }
 ],
 "metadata": {
  "language_info": {
   "name": "python"
  }
 },
 "nbformat": 4,
 "nbformat_minor": 2
}
