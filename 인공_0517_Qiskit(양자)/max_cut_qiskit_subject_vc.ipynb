{
 "cells": [
  {
   "cell_type": "markdown",
   "metadata": {},
   "source": [
    "### 인공지능융합특론 0517 과제\n",
    "- 주제 : 회식자리 친밀도 측정\n",
    "  회식에 참석한 인원들을 두 그룹으로 나누어 서로 마주 앉게 배치\n",
    "  서로 마주 앉는 사람들 간의 친밀도 합이 최대가 되도록 그룹을 나눈다.\n",
    "  즉, Max-cut 문제로 모델링하여 두 그룹 간의 간선 가중치(친밀도)를 최대화한다. \n",
    "- 참석자: 총 5명 (부장 (B), 과장 (M), 대리 (S), 사원 (E), 인턴 (I))\n",
    "- 그래프 모델링 \n",
    "  정점(Vertex): 참석자 각자 (B, M, S, E, I)\n",
    "  간선(Edge): 두 참석자 간의 친밀도 관계\n",
    "  가중치(Weight): 친밀도 점수\n",
    "- 집합 V를 A와 B로 나눔 (A ∪ B = V, A ∩ B = ∅) : A와 B 사이에 있는 간선들의 가중치 합을 최대화\n",
    "\n",
    "*-* Phase-3. max_cut_algorithm.ipynb 파일을 기반하여 Qiskit 을 이용한 소스작성"
   ]
  },
  {
   "cell_type": "code",
   "execution_count": null,
   "metadata": {},
   "outputs": [],
   "source": [
    "# pip 확인 및 qiskit 버전 확인\n",
    "!pip --version\n",
    "!pip list | grep qiskit"
   ]
  },
  {
   "cell_type": "code",
   "execution_count": null,
   "metadata": {},
   "outputs": [],
   "source": [
    "!pip uninstall -y qiskit"
   ]
  },
  {
   "cell_type": "code",
   "execution_count": null,
   "metadata": {},
   "outputs": [],
   "source": [
    "!pip install \"qiskit==0.46.0\""
   ]
  },
  {
   "cell_type": "code",
   "execution_count": null,
   "metadata": {},
   "outputs": [],
   "source": [
    "# 셀 1: 필수 패키지 설치 (Colab 사용 시 실행) -> 버전 변경 \n",
    "!pip install \"qiskit==0.46.0\"\n",
    "!pip install \"qiskit-aer==0.12.0\"\n",
    "!pip install \"qiskit-optimization==0.5.0\"\n",
    "!pip install \"qiskit-algorithms==0.2.0\"\n",
    "!pip install \"qiskit-ibm-provider==0.5.0\"\n",
    "!pip install \"qiskit-ibm-runtime==0.13.0\""
   ]
  },
  {
   "cell_type": "markdown",
   "metadata": {},
   "source": [
    "### 세팅"
   ]
  },
  {
   "cell_type": "code",
   "execution_count": 25,
   "metadata": {},
   "outputs": [],
   "source": [
    "# 셀 2: 필요한 모듈 불러오기\n",
    "from qiskit import Aer\n",
    "from qiskit.utils import algorithm_globals, QuantumInstance\n",
    "from qiskit_optimization.applications import Maxcut\n",
    "from qiskit_optimization.algorithms import MinimumEigenOptimizer\n",
    "from qiskit.algorithms import QAOA\n",
    "from qiskit.algorithms.optimizers import COBYLA\n",
    "from qiskit.opflow import PauliSumOp\n",
    "from qiskit_ibm_provider import IBMProvider\n",
    "from qiskit_ibm_provider import least_busy\n",
    "\n",
    "import networkx as nx\n",
    "import matplotlib.pyplot as plt\n"
   ]
  },
  {
   "cell_type": "markdown",
   "metadata": {},
   "source": [
    "### IBM 연동 "
   ]
  },
  {
   "cell_type": "code",
   "execution_count": 28,
   "metadata": {},
   "outputs": [
    {
     "name": "stdout",
     "output_type": "stream",
     "text": [
      "Selected backend: <IBMBackend('ibm_sherbrooke')>\n"
     ]
    },
    {
     "name": "stderr",
     "output_type": "stream",
     "text": [
      "/var/folders/3d/dxbhq4214vqddsxgwxm891gm0000gn/T/ipykernel_7118/649297999.py:31: DeprecationWarning: The class ``qiskit.utils.quantum_instance.QuantumInstance`` is deprecated as of qiskit-terra 0.24.0. It will be removed no earlier than 3 months after the release date. For code migration guidelines, visit https://qisk.it/qi_migration.\n",
      "  quantum_instance = QuantumInstance(backend=backend)\n"
     ]
    }
   ],
   "source": [
    "\"\"\"\n",
    "# ibm runtime 을 이용한 방법 <실패>\n",
    "from qiskit_ibm_runtime import QiskitRuntimeService, Sampler, Options, Session\n",
    "\n",
    "QiskitRuntimeService.save_account(\n",
    "    channel=\"ibm_quantum\", \n",
    "    token=\"\", \n",
    "    overwrite=True)\n",
    "service = QiskitRuntimeService(channel='ibm_quantum')\n",
    "backend = service.least_busy(min_num_qubits=5)\n",
    "print(f\"Selected backend: {backend}\")\n",
    "\n",
    "# 옵션 설정\n",
    "options = Options()\n",
    "options.optimization_level = 3  # 최적화 레벨 설정\n",
    "options.resilience_level = 1    # 오류 완화 레벨 설정\n",
    "\n",
    "# Sampler 설정\n",
    "session = Session(backend=backend)\n",
    "sampler = Sampler(session=session, options=options)\n",
    "\"\"\"\n",
    "\n",
    "# IBM Quantum 계정 로드\n",
    "provider = IBMProvider(\n",
    "    token=\"<ibm-quantum-token>\" \n",
    "    )\n",
    "\n",
    "# 사용 가능한 백엔드 중 가장 바쁘지 않은 백엔드 선택\n",
    "backend = least_busy(provider.backends(filters=lambda x: x.configuration().n_qubits >= 5 and not x.configuration().simulator))\n",
    "print(f\"Selected backend: {backend}\")\n",
    "quantum_instance = QuantumInstance(backend=backend)\n"
   ]
  },
  {
   "cell_type": "code",
   "execution_count": null,
   "metadata": {},
   "outputs": [],
   "source": [
    "# 셀 3: 문제 정의 - 참석자와 친밀도\n",
    "nodes = [\"부장\", \"과장\", \"대리\", \"사원\", \"인턴\"]\n",
    "node_index = {name: i for i, name in enumerate(nodes)}\n",
    "edges = [\n",
    "    (\"부장\", \"과장\", 8),\n",
    "    (\"부장\", \"대리\", 3),\n",
    "    (\"부장\", \"사원\", 1),\n",
    "    (\"부장\", \"인턴\", 1),\n",
    "    (\"과장\", \"대리\", 7),\n",
    "    (\"과장\", \"사원\", 2),\n",
    "    (\"대리\", \"사원\", 6),\n",
    "    (\"대리\", \"인턴\", 4),\n",
    "    (\"사원\", \"인턴\", 5)\n",
    "]\n",
    "\n",
    "# 📌 NetworkX 그래프 생성 (정수 노드 사용)\n",
    "G = nx.Graph()\n",
    "G.add_nodes_from(range(len(nodes)))  # 정수 노드\n",
    "for u, v, w in edges:\n",
    "    G.add_edge(node_index[u], node_index[v], weight=w)\n",
    "\n",
    "# ✅ MaxCut 문제로 변환\n",
    "maxcut = Maxcut(G)\n",
    "problem = maxcut.to_quadratic_program()\n",
    "print(problem.prettyprint())\n",
    "\n",
    "# 셀 5: QAOA 설정\n",
    "#algorithm_globals.random_seed = 42\n",
    "#backend = Aer.get_backend(\"aer_simulator_statevector\")\n",
    "#quantum_instance = QuantumInstance(backend=backend)\n",
    "\n",
    "# QAOA 초기화 및 instance 설정\n",
    "qaoa = QAOA(optimizer=COBYLA(), reps=1, quantum_instance=quantum_instance)\n",
    "#qaoa = QAOA(optimizer=COBYLA(), reps=1, sampler=sampler, initial_point=[1.0, 1.0])\n",
    "\n",
    "##### !!! 연산자 변환 작업 QAOA가 반환하는 SparsePauliOp → PauliSumOp\n",
    "from qiskit_optimization.converters import QuadraticProgramToQubo\n",
    "qubo_converter = QuadraticProgramToQubo()\n",
    "qubo_problem = qubo_converter.convert(problem)\n",
    "operator, offset = qubo_problem.to_ising()\n",
    "\n",
    "# 변환\n",
    "if not isinstance(operator, PauliSumOp):\n",
    "    #operator = PauliSumOp.from_operator(operator)\n",
    "    operator = PauliSumOp(operator)\n",
    "\n",
    "# QAOA 실행 후 커스텀 MinimumEigenOptimizer 사용\n",
    "from qiskit.algorithms import MinimumEigensolverResult\n",
    "\n",
    "class PatchedQAOA(QAOA):\n",
    "    def compute_minimum_eigenvalue(self, operator, aux_operators=None):\n",
    "        if not isinstance(operator, PauliSumOp):\n",
    "            operator = PauliSumOp(operator)\n",
    "        return super().compute_minimum_eigenvalue(operator, aux_operators)\n",
    "\n",
    "patched_qaoa = PatchedQAOA(optimizer=COBYLA(), reps=1, quantum_instance=quantum_instance)\n",
    "#patched_qaoa = PatchedQAOA(optimizer=COBYLA(), reps=1, sampler=sampler)\n",
    "optimizer = MinimumEigenOptimizer(patched_qaoa)\n",
    "\n",
    "# 셀 6: 문제 해결\n",
    "result = optimizer.solve(problem)\n",
    "solution = maxcut.interpret(result)\n",
    "\n",
    "print(\"최적 해:\", result)\n",
    "print(\"MaxCut 결과 (0과 1로 그룹 분할):\", solution)\n",
    "\n",
    "\"\"\" 결과 5/21\n",
    "FAILURE: Can not get job id, Resubmit the qobj to get job id. Terra job error: 'Error submitting job: \\'404 Client Error: Not Found for url: https://api.quantum.ibm.com/runtime/jobs. {\"errors\":[{\"code\":1211,\"message\":\"Program not found.\",\"solution\":\"Make sure you use a valid program name, such as \\\\\\'sampler\\\\\\' or \\\\\\'estimator\\\\\\'. Qiskit Runtime no longer supports the \\\\\\'backend.run\\\\\\' interface. Refer to the migration guide (https://docs.quantum.ibm.com/migration-guides/qiskit-runtime) for instructions to migrate to the primitives.\",\"more_info\":\"https://docs.quantum-computing.ibm.com/errors\"}]}\\''\n",
    "qiskit 버전이 너무 오래되어 최신버전으로 접근해야 하는 이슈 발생 \n",
    "\"\"\""
   ]
  }
 ],
 "metadata": {
  "language_info": {
   "name": "python"
  }
 },
 "nbformat": 4,
 "nbformat_minor": 2
}
