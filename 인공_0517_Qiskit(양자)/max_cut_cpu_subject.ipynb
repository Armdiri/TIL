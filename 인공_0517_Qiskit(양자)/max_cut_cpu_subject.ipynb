{
  "cells": [
    {
      "cell_type": "markdown",
      "metadata": {
        "id": "iCXQclnd7jiC"
      },
      "source": [
        "# 인공지능공학융합특론 05월17일 과제\n",
        "\n",
        "### 과제\n",
        "- Max(Min)-Cut 알고리즘의 이해\n",
        "- 주제 자유 선정 ( 회식자리에서 부장,과장,대리,사원,인턴 친밀도에 의한 자리배치 )\n",
        "- 친밀도 (부장-과장 8, 부장-대리 3, 부장-사원 1, 부장-인턴 1, 과장-대리 7, 과장-사원 2, 대리-사원 6, 대리-인턴 4, 사원-인턴 5)\n",
        "- Goal : 서로 친한 사람들이 마주보게 자리 배치를 하는것\n",
        "- 원형테이블을 반으로 나누듯 두 그룹으로 나누고 서로 다른 그룹에 앉은 사람들 간의 친밀도 총합이 최대가 되도록 하는것\n",
        "- 파일은 총 2개 ( 일반CPU로 작성할때와 Qiskit 으로 작성할때 )\n",
        "\n",
        "### 실행\n",
        "- 일반 CPU로 돌릴때 몇개의 노드까지 처리가 되는지 확인\n",
        "- qiskit 을 이용한 코드작성 후 ibm quantum 비교\n",
        "\n"
      ]
    },
    {
      "cell_type": "code",
      "execution_count": null,
      "metadata": {
        "id": "Wfivnd70m1hq"
      },
      "outputs": [],
      "source": [
        "import time\n",
        "import random\n",
        "from collections import defaultdict\n",
        "\n",
        "# 친밀도 데이터 정의\n",
        "closeness = {\n",
        "    ('부장', '과장'): 8,\n",
        "    ('부장', '대리'): 3,\n",
        "    ('부장', '사원'): 1,\n",
        "    ('부장', '인턴'): 1,\n",
        "    ('과장', '대리'): 7,\n",
        "    ('과장', '사원'): 2,\n",
        "    ('대리', '사원'): 6,\n",
        "    ('대리', '인턴'): 4,\n",
        "    ('사원', '인턴'): 5\n",
        "}"
      ]
    },
    {
      "cell_type": "code",
      "execution_count": null,
      "metadata": {
        "id": "yJaEj1_os45N"
      },
      "outputs": [],
      "source": [
        "def generate_set(nodes) :\n",
        "  \"\"\"Dict 기본세팅 \"\"\"\n",
        "  graph = defaultdict(dict)\n",
        "  positions = [f'직원{i}' for i in range(nodes)]\n",
        "\n",
        "  f_positions = ['부장','과장','대리','사원','인턴']\n",
        "  f_graph = defaultdict(dict)\n",
        "\n",
        "  # 기초세팅\n",
        "  for (p1, p2), weight in closeness.items() :\n",
        "    f_graph[p1][p2] = weight\n",
        "    f_graph[p2][p1] = weight\n",
        "\n",
        "  # 5명 데이터를 복사\n",
        "  for i in range(min(5, nodes)) :\n",
        "    for j in range(i+1, min(5, nodes)) :\n",
        "      p1, p2 = f_positions[i], f_positions[j]\n",
        "      if p2 in f_graph[p1] :\n",
        "        graph[positions[i]][positions[j]] = f_graph[p1][p2]\n",
        "        graph[positions[j]][positions[i]] = f_graph[p1][p2]\n",
        "\n",
        "  # 추가 노드에 대한 랜덤 친밀도 생성\n",
        "  for i in range(5, nodes) :\n",
        "    for j in range(i+1, nodes) :\n",
        "      weight = random.randint(1, 10)\n",
        "      graph[positions[i]][positions[j]] = weight\n",
        "      graph[positions[j]][positions[i]] = weight\n",
        "\n",
        "  return graph, positions"
      ]
    },
    {
      "cell_type": "code",
      "execution_count": null,
      "metadata": {
        "id": "zqXNR5pjnHz8"
      },
      "outputs": [],
      "source": [
        "def node_performance() :\n",
        "  \"\"\" 성능 테스트 실행 \"\"\"\n",
        "  node_counts = list(range(2, 21))\n",
        "  execution_times = []\n",
        "  max_nodes = 0\n",
        "\n",
        "  print(\"\\n=== Max-Cut 알고리즘 성능 테스트 ===\")\n",
        "\n",
        "  for n in node_counts :\n",
        "    graph, positions = generate_set(n)\n",
        "\n",
        "    start_time = time.time()\n",
        "    try:\n",
        "      max_cut, partition = max_cut_algorithm(graph, positions)\n",
        "      execution_time = time.time() - start_time\n",
        "      execution_times.append(execution_time)\n",
        "\n",
        "      print(f\"\\n노드 : {n}, 실행시간 : {execution_time : .2f}, 가중치합 : {max_cut}\")\n",
        "\n",
        "      if execution_time < 60 :\n",
        "        max_nodes = n\n",
        "      else :\n",
        "        print(\"\\n실행 시간이 60초를 초과하여 테스트가 중단되었습니다.\")\n",
        "        break\n",
        "    except Exception as e :\n",
        "      print(f\"\\n노드 : {n}, 오류발생 : {str(e)}\")\n",
        "      break\n",
        "  print(\"\\n=== 테스트 결과 요약 ===\")\n",
        "  print(f\"\\n최대 처리 가능 노드 수 (60초 이내): {max_nodes}\")\n",
        "  print(\"\\n노드 수별 실행 시간:\")\n",
        "\n",
        "  for i, n in enumerate(node_counts[:len(execution_times)]):\n",
        "      print(f\"{n} 노드 : {execution_times[i]:.2f} 초\")\n"
      ]
    },
    {
      "cell_type": "code",
      "execution_count": null,
      "metadata": {
        "id": "2D_PkWnCwm1g"
      },
      "outputs": [],
      "source": [
        "def max_cut_algorithm(graph, positions) :\n",
        "  \"\"\"알고리즘 계산 \"\"\"\n",
        "  n = len(positions)\n",
        "  max_cut = 0\n",
        "  f_partition = None\n",
        "\n",
        "  # 모든 가능한 분할 시도 (2^(n-1)-1)\n",
        "  for i in range(1, 2**(n-1)) :\n",
        "    partition = []\n",
        "    for j in range(n) :\n",
        "      if(i >> j) & 1 :\n",
        "        partition.append(positions[j])\n",
        "\n",
        "    # cut 크기 계산\n",
        "    cut_size = 0\n",
        "    for u in partition :\n",
        "      for v in positions :\n",
        "        if v not in partition and v in graph[u] :\n",
        "          cut_size += graph[u][v]\n",
        "\n",
        "    if cut_size > max_cut :\n",
        "      max_cut = cut_size\n",
        "      f_partition = (partition, [v for v in positions if v not in partition ])\n",
        "\n",
        "  return max_cut, f_partition"
      ]
    },
    {
      "cell_type": "code",
      "execution_count": null,
      "metadata": {
        "colab": {
          "base_uri": "https://localhost:8080/"
        },
        "id": "ucfB3U9L1W5O",
        "outputId": "96d1a23d-fdb1-429e-db92-0ad2bb80eff2"
      },
      "outputs": [
        {
          "name": "stdout",
          "output_type": "stream",
          "text": [
            "\n",
            "=== Max-Cut 알고리즘 성능 테스트 ===\n",
            "\n",
            "노드 : 2, 실행시간 :  0.00, 가중치합 : 8\n",
            "\n",
            "노드 : 3, 실행시간 :  0.00, 가중치합 : 15\n",
            "\n",
            "노드 : 4, 실행시간 :  0.00, 가중치합 : 22\n",
            "\n",
            "노드 : 5, 실행시간 :  0.00, 가중치합 : 27\n",
            "\n",
            "노드 : 6, 실행시간 :  0.00, 가중치합 : 27\n",
            "\n",
            "노드 : 7, 실행시간 :  0.00, 가중치합 : 34\n",
            "\n",
            "노드 : 8, 실행시간 :  0.00, 가중치합 : 40\n",
            "\n",
            "노드 : 9, 실행시간 :  0.00, 가중치합 : 56\n",
            "\n",
            "노드 : 10, 실행시간 :  0.00, 가중치합 : 59\n",
            "\n",
            "노드 : 11, 실행시간 :  0.01, 가중치합 : 88\n",
            "\n",
            "노드 : 12, 실행시간 :  0.03, 가중치합 : 99\n",
            "\n",
            "노드 : 13, 실행시간 :  0.05, 가중치합 : 132\n",
            "\n",
            "노드 : 14, 실행시간 :  0.13, 가중치합 : 141\n",
            "\n",
            "노드 : 15, 실행시간 :  0.31, 가중치합 : 191\n",
            "\n",
            "노드 : 16, 실행시간 :  0.73, 가중치합 : 206\n",
            "\n",
            "노드 : 17, 실행시간 :  1.67, 가중치합 : 262\n",
            "\n",
            "노드 : 18, 실행시간 :  4.27, 가중치합 : 296\n",
            "\n",
            "노드 : 19, 실행시간 :  9.62, 가중치합 : 362\n",
            "\n",
            "노드 : 20, 실행시간 :  22.63, 가중치합 : 371\n",
            "\n",
            "=== 테스트 결과 요약 ===\n",
            "\n",
            "최대 처리 가능 노드 수 (60초 이내): 20\n",
            "\n",
            "노드 수별 실행 시간:\n",
            "2 노드 : 0.00 초\n",
            "3 노드 : 0.00 초\n",
            "4 노드 : 0.00 초\n",
            "5 노드 : 0.00 초\n",
            "6 노드 : 0.00 초\n",
            "7 노드 : 0.00 초\n",
            "8 노드 : 0.00 초\n",
            "9 노드 : 0.00 초\n",
            "10 노드 : 0.00 초\n",
            "11 노드 : 0.01 초\n",
            "12 노드 : 0.03 초\n",
            "13 노드 : 0.05 초\n",
            "14 노드 : 0.13 초\n",
            "15 노드 : 0.31 초\n",
            "16 노드 : 0.73 초\n",
            "17 노드 : 1.67 초\n",
            "18 노드 : 4.27 초\n",
            "19 노드 : 9.62 초\n",
            "20 노드 : 22.63 초\n"
          ]
        }
      ],
      "source": [
        "if __name__ == \"__main__\" :\n",
        "  node_performance()"
      ]
    }
  ],
  "metadata": {
    "colab": {
      "provenance": []
    },
    "kernelspec": {
      "display_name": "Python 3",
      "name": "python3"
    },
    "language_info": {
      "name": "python"
    }
  },
  "nbformat": 4,
  "nbformat_minor": 0
}
